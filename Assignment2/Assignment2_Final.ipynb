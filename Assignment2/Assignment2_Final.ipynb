{
 "cells": [
  {
   "cell_type": "markdown",
   "metadata": {},
   "source": [
    "## Assignment 2 -- Salvador GARCIA -- s1655274"
   ]
  },
  {
   "cell_type": "markdown",
   "metadata": {},
   "source": [
    "## Problem 1"
   ]
  },
  {
   "cell_type": "markdown",
   "metadata": {},
   "source": [
    "The original problem:\n",
    "$$f(x) = \\left[\\; \\sum_{i = 1}^{d} \\phi_j^*(b_j^T x) \\;\\right] + \\gamma x^T x$$\n",
    "\n",
    "f(x) can be rewritten in a easier way, but some consideration about the function $\\phi_j^*(s)$ should be done. This is a piecewise function, now we will consider the case when s<-1: \n",
    "\n",
    "$$f(x) = \\left[\\; \\sum_{i = 1}^{d} \\frac{(b_j^T x + 1)^2}{2\\alpha_j} \\;\\right] + \\gamma x^T x$$\n",
    "$$f(x) = \\left[\\; \\frac{1}{2}\\sum_{i = 1}^{d} \\left(\\;\\frac{b_j^T}{\\sqrt{\\alpha_j}} x + \\frac{1}{\\sqrt{\\alpha_j}}\\;\\right)^2 \\;\\right] + \\gamma x^t x$$\n",
    "\n",
    "Now, let's call $A_j = \\frac{b_j^T}{\\sqrt{\\alpha_j}}$ and $c_j = \\frac{1}{\\sqrt{\\alpha_j}}$. (for the other cases, c will be defined different. For $s>1$, $c_j = -\\frac{1}{\\sqrt{\\alpha_j}}$ and for $s \\in (-1,1)$, $c_j = -A_j^Tx$)\n",
    "$$f(x) = \\left[\\; \\frac{1}{2}\\sum_{i = 1}^{d} \\left(\\;A_j x + c_j\\;\\right)^2 \\;\\right] + \\gamma x^T x$$\n",
    "\n",
    "This last expression is equivalent to the norm $||Ax||^2_2 = \\sum_j(A_jx)^2$ with $A_j$ the rows of A:\n",
    "\n",
    "$$f(x) = \\frac{1}{2}||Ax + c||^2_2  + \\gamma ||x^Tx||$$\n",
    "\n",
    "$$f(x) = \\frac{1}{2}(Ax + c)^T (Ax + c)  + \\gamma x^T x $$\n",
    "$$f(x) = \\frac{1}{2}\\left(\\;\\ x^TA^TAx +  2 x^TA^Tc + c^Tc\\;\\right) + \\gamma x^T x $$\n",
    "\n",
    "Taking the derivative of the last expression:\n",
    "$$\\nabla f(x) = x^TA^TA + c^TA + 2\\gamma x^T$$\n",
    "\n",
    "Now, using the Definition 8 from the lecture, we have that $f(x+h) \\leq f(x) + \\nabla f(x)^T h + h^T M h$. Lets divide this expression in LHS and RHS. The LHS is equivalent to:\n",
    "\n",
    "$$f(x+h) = \\frac{1}{2} (x+h)^TA^TA(x+h) +  (x+h)^TA^Tc + \\frac{1}{2}  c^Tc + \\gamma (x+h)^T(x+h) $$\n",
    "$$f(x+h) = \\left(\\;\\ \\frac{1}{2} x^TA^TAx +  x^TA^Tc + \\frac{1}{2}  c^Tc + \\gamma x^Tx \\;\\right) + \\left(\\;\\ x^TA^TAh + c^TAh + 2\\gamma x^Th \\;\\right)+ h^T (A^TA + \\gamma I)h$$ \n",
    "\n",
    "And the RHS:\n",
    "$$f(x) + \\nabla f(x)^T h + h^T M h =\\left(\\;\\ \\frac{1}{2} x^TA^TAx +  x^TA^Tc + \\frac{1}{2}  c^Tc + \\gamma x^Tx \\;\\right) + \\left(\\;\\ x^TA^TAh + c^TAh + 2\\gamma x^Th \\;\\right)+ h^T M h$$\n",
    "\n",
    "This inequality is an equality when $M = A^T A + \\gamma I $. This result makes sense with the theorem 9 from the lecture 7. The dimmensionalities of the matrices and vectors for this assignment are the following:\n",
    "\n",
    "$A \\in ℝ^{d\\times n} \\qquad M \\in ℝ^{n\\times n} \\qquad x \\in ℝ^{n\\times 1} \\qquad c \\in ℝ^{d\\times 1} \\qquad h \\in ℝ^{n\\times 1} \\qquad v \\in ℝ^{n\\times 1}$"
   ]
  },
  {
   "cell_type": "code",
   "execution_count": 5,
   "metadata": {
    "collapsed": false
   },
   "outputs": [],
   "source": [
    "using Distributions\n",
    "srand(123456)\n",
    "\n",
    "# Define parameters for the function ComputeESO ----------------------\n",
    "global n = 5               # number of columns of A\n",
    "global d = 4               # number of rows of A\n",
    "global B = randn(d, n)     # M = A^T A\n",
    "global alpha = zeros(d,1)  # useful to calculate A, c_1 and c_3\n",
    "global gamma = 1/d         # penalization term\n",
    "global tau = 2\n",
    "\n",
    "# global A, c_1 and c_3 according to the above definitions------------\n",
    "global c_1 = zeros(d,1)    # for new_nomenclature (for the case s <-1)\n",
    "global c_3 = zeros(d,1)    # for new_nomenclature (for the case s > 1)\n",
    "                           # for new_nomenclature (the case s \\in (-1,1) just put 0)\n",
    "global A = zeros(d,n)      # for new_nomenclature\n",
    "global M_factor = zeros(d,n);"
   ]
  },
  {
   "cell_type": "code",
   "execution_count": 2,
   "metadata": {
    "collapsed": false
   },
   "outputs": [
    {
     "data": {
      "text/plain": [
       "ComputeESO (generic function with 1 method)"
      ]
     },
     "execution_count": 2,
     "metadata": {},
     "output_type": "execute_result"
    }
   ],
   "source": [
    "function samplingK(k, n) \n",
    "    reservoir = collect(1:k)\n",
    "    for i=(k+1):n\n",
    "        pos = rand(1:i)\n",
    "        if pos <= k\n",
    "            reservoir[pos] = i\n",
    "        end\n",
    "    end\n",
    "    return reservoir\n",
    "end\n",
    "\n",
    "function ComputeESO(B, alpha, gamma, tau)\n",
    "    \n",
    "    # First of all, compute A, c_1, c_3 for the new nomenclature------\n",
    "    for i = 1:d\n",
    "        alpha[i] = n/i                   \n",
    "        c_1[i] = 1/(sqrt(alpha[i]))      \n",
    "        c_3[i] = -1/(sqrt(alpha[i]))\n",
    "        A[i,:] = copy(B[i,:])            # careful when assigning a vector to another vector!\n",
    "        A[i,:] = A[i,:]/sqrt(alpha[i])\n",
    "    end\n",
    "    M = A'* A + 2 *gamma* eye(n)         # A'A and gamma*eye are pos-semidef so A'A + 2 gamma*eye is pos-semidef.\n",
    "    M_factor = chol(M)                   # so, apply Cholesky! Now M = M_factor' * M_factor  \n",
    "    \n",
    "    # Now, let's create the omegas and v ------------------------------\n",
    "    omega = zeros(n,1)\n",
    "    v = zeros(n,1)\n",
    "    \n",
    "    # Omega computation -----------------------------------------------\n",
    "    for j = 1:n                          # The matrix M_factor is n \\times n\n",
    "        for i = 1:n\n",
    "            if M_factor[j,i]!=0\n",
    "                omega[j] += 1            # per row, count number of columns!=0\n",
    "            end\n",
    "        end\n",
    "    end\n",
    "    # v computation ---------------------------------------------------\n",
    "    for i = 1:n                          # The matrix M_factor is n \\times n\n",
    "        for j = 1:n\n",
    "            # According to the formula of lecture 7\n",
    "            v[i] = v[i]+(1+(tau-1)*(omega[j]-1)/(n-1))*M_factor[j,i]*M_factor[j,i]\n",
    "        end\n",
    "    end\n",
    "    return v\n",
    "end"
   ]
  },
  {
   "cell_type": "code",
   "execution_count": 4,
   "metadata": {
    "collapsed": false
   },
   "outputs": [
    {
     "data": {
      "text/plain": [
       "5×1 Array{Float64,2}:\n",
       " 3.42953 \n",
       " 1.37536 \n",
       " 2.69978 \n",
       " 0.965992\n",
       " 1.56299 "
      ]
     },
     "execution_count": 4,
     "metadata": {},
     "output_type": "execute_result"
    }
   ],
   "source": [
    "# Compute v parameters ----------------------------------\n",
    "v = ComputeESO(B, alpha, gamma, tau)"
   ]
  },
  {
   "cell_type": "code",
   "execution_count": 166,
   "metadata": {
    "collapsed": false
   },
   "outputs": [
    {
     "name": "stderr",
     "output_type": "stream",
     "text": [
      "WARNING: Method definition f_calc(Any, Any, Any, Any, Any, Any) in module Main at In[127]:3 overwritten at In[166]:3.\n",
      "WARNING: Method definition df_calc(Any, Any, Any, Any, Any, Any, Any) in module Main at In[127]:19 overwritten at In[166]:19.\n",
      "WARNING: Method definition ESO_Test(Any, Any, Any, Any) in module Main at In[127]:35 overwritten at In[166]:35.\n"
     ]
    },
    {
     "data": {
      "text/plain": [
       "ESO_Test (generic function with 1 method)"
      ]
     },
     "execution_count": 166,
     "metadata": {},
     "output_type": "execute_result"
    }
   ],
   "source": [
    "function f_calc(x, A, c_1, c_3, gamma, alpha)\n",
    "    # function to compute the value of f(x)\n",
    "    fx = 0\n",
    "    for i = 1:d\n",
    "        s = A[i,:]'*x\n",
    "        if s[1]<(-1/alpha[i])  # when s < -1\n",
    "            fx = fx + 1/2*(s + c_1[i])^2 \n",
    "        elseif s[1]>(1/alpha[i])                  # when s > 1\n",
    "            fx = fx + 1/2*(s + c_3[i])^2\n",
    "        else                             # when s \\in (-1,1)\n",
    "            fx = fx \n",
    "        end\n",
    "    end\n",
    "    return fx + gamma*x'*x               # add the regularization factor \n",
    "end\n",
    "\n",
    "function df_calc(x, A, c_1, c_3, gamma, alpha, j)\n",
    "    # function to compute the value of \\nabda f(x)\n",
    "    dfx = zeros(1,n)\n",
    "    for i = 1:d\n",
    "        s = A[i,:]'*x\n",
    "        if s[1]<(-1/alpha[i])                    # when s < -1\n",
    "            dfx[j] = (dfx[j] + (s + c_1[i])*A[i,j])[1]\n",
    "        elseif s[1]>(1/alpha[i])                  # when s > 1\n",
    "            dfx[j] = (dfx[j] + (s + c_3[i])*A[i,j])[1]\n",
    "        else                             # when s \\in (-1,1)\n",
    "            dfx[j] = dfx[j]\n",
    "        end\n",
    "    end\n",
    "    return dfx[j] + 2*gamma*x'[j]              # add the regularization factor \n",
    "end\n",
    "\n",
    "function ESO_Test(A,alpha,gamma,tau)\n",
    "    # Random x -----------------------------------------\n",
    "    x = randn(n,1)*10                    # For this test, random entries for x will be taken\n",
    "                                         # I used normally distributed random x because the \n",
    "                                         # domain is (-inf, inf) and, when multiplied by 100, \n",
    "                                         # with 95% of prob the initial values in each entry\n",
    "                                         # will be between (-19.6, 19.6)\n",
    "    p = zeros(n,1).+tau/n                # Probability is tau/n for each entry\n",
    "    fx = f_calc(x, A, c_1, c_3, gamma, alpha)   \n",
    "    dfx = zeros(n,1)\n",
    "    h = zeros(n,1)\n",
    "    for i = 1:n\n",
    "        dfx[i] = df_calc(x, A, c_1, c_3, gamma, alpha, i)\n",
    "    end\n",
    "    \n",
    "    # Calculate h --------------------------------------\n",
    "    \n",
    "    for i = 1:n\n",
    "        h[i] = -dfx[i]/v[i]\n",
    "    end\n",
    "#    h = -diagm(1./v[1:n])*dfx'           # Using the formula in lecture 6 for h\n",
    "\n",
    "    # Calculate RHS ------------------------------------\n",
    "    f1 = zeros(n, 1)                    \n",
    "    f2 = zeros(n, 1)\n",
    "    \n",
    "    for i = 1:n\n",
    "        f1[i] = p[i]*dfx[i]*h[i]\n",
    "        f2[i] = p[i]*v[i]*h[i]*h[i]\n",
    "    end\n",
    "\n",
    "    RHS = (fx +sum(f1)+.5*sum(f2))[1]\n",
    "    # Calculate LHS ------------------------------------\n",
    "    x_samples_vec = zeros(50000,1)\n",
    "    for i = 1:50000\n",
    "        x_samples = copy(x)\n",
    "        selected = samplingK(tau, n)\n",
    "        for j = 1:tau\n",
    "            x_samples[selected[j]] = x_samples[selected[j]] + h[selected[j]]\n",
    "        end\n",
    "        x_samples_vec[i] = f_calc(x_samples, A, c_1, c_3, gamma, alpha)[1]\n",
    "    end\n",
    "    LHS = mean(x_samples_vec[1:50000])\n",
    "    println(\"The LHS is: $LHS and the is RHS: $RHS\")\n",
    "    return RHS-LHS\n",
    "end\n",
    "\n"
   ]
  },
  {
   "cell_type": "code",
   "execution_count": 167,
   "metadata": {
    "collapsed": false
   },
   "outputs": [
    {
     "name": "stdout",
     "output_type": "stream",
     "text": [
      "The LHS is: 10262.463316858948 and the is RHS: 10269.728416528715\n"
     ]
    },
    {
     "data": {
      "text/plain": [
       "7.2650996697666415"
      ]
     },
     "execution_count": 167,
     "metadata": {},
     "output_type": "execute_result"
    }
   ],
   "source": [
    "ESO_Test_vec = ESO_Test(A,alpha,gamma,1)"
   ]
  },
  {
   "cell_type": "code",
   "execution_count": 168,
   "metadata": {
    "collapsed": false
   },
   "outputs": [
    {
     "name": "stdout",
     "output_type": "stream",
     "text": [
      "The LHS is: 11475.515624745742 and the is RHS: 11490.55895521529\n",
      "The LHS is: 13358.65719087749 and the is RHS: 13398.477378543512\n",
      "The LHS is: 10516.91261700203 and the is RHS: 10531.798959012092\n",
      "The LHS is: 11450.29931938492 and the is RHS: 11470.549308391546\n",
      "The LHS is: 11020.287603832043 and the is RHS: 11039.634195397339\n",
      "The LHS is: 16953.789841647846 and the is RHS: 17038.675134443336\n",
      "The LHS is: 14387.618169526724 and the is RHS: 14433.338266130379\n",
      "The LHS is: 14427.913476113763 and the is RHS: 14484.700960000193\n",
      "The LHS is: 12196.817737479296 and the is RHS: 12228.808517351705\n",
      "The LHS is: 12760.354486946659 and the is RHS: 12804.770364970942\n",
      "The LHS is: 10838.516090992189 and the is RHS: 10857.457494369402\n",
      "The LHS is: 11882.824201697009 and the is RHS: 11898.943184285536\n",
      "The LHS is: 13837.765471976241 and the is RHS: 13889.819345322652\n",
      "The LHS is: 11060.09114449358 and the is RHS: 11076.889329245587\n",
      "The LHS is: 14515.984723053989 and the is RHS: 14562.386730915623\n",
      "The LHS is: 15587.64999697635 and the is RHS: 15675.074035172795\n",
      "The LHS is: 12384.19246099499 and the is RHS: 12414.614646809001\n",
      "The LHS is: 10737.769485217912 and the is RHS: 10755.969956523017\n",
      "The LHS is: 12491.401274686661 and the is RHS: 12516.528099887708\n",
      "The LHS is: 10413.378916178257 and the is RHS: 10429.376428115043\n",
      "The percentage of random x where the ESO inequality holds is: 100.0"
     ]
    }
   ],
   "source": [
    "n_tries = 20\n",
    "ESO_Test_vec = zeros(n_tries,1)\n",
    "sum_correct = 0\n",
    "for j = 1:n_tries\n",
    "    ESO_Test_vec[j] = ESO_Test(A,alpha,gamma,2)\n",
    "    if ESO_Test_vec[j]>0\n",
    "        sum_correct+=1\n",
    "    end\n",
    "end\n",
    "perc_correct = sum_correct/n_tries*100\n",
    "print(\"The percentage of random x where the ESO inequality holds is: $perc_correct\")"
   ]
  },
  {
   "cell_type": "code",
   "execution_count": 169,
   "metadata": {
    "collapsed": false
   },
   "outputs": [
    {
     "name": "stderr",
     "output_type": "stream",
     "text": [
      "WARNING: Method definition PlotSpeedup(Any, Any, Any, Any) in module Main at In[130]:3 overwritten at In[169]:3.\n"
     ]
    },
    {
     "data": {
      "text/plain": [
       "PlotSpeedup (generic function with 1 method)"
      ]
     },
     "execution_count": 169,
     "metadata": {},
     "output_type": "execute_result"
    }
   ],
   "source": [
    "function PlotSpeedup(B, alpha, gamma, tau)\n",
    "    \n",
    "    v_1 = ComputeESO(B,alpha,gamma,1)\n",
    "    p_1 = zeros(n,1).+1/n    \n",
    "    \n",
    "    v_tau = ComputeESO(B,alpha,gamma,tau)\n",
    "    p_tau = zeros(n,1).+tau/n\n",
    "    max_num = 0\n",
    "    max_denum = 0\n",
    "    \n",
    "    for i = 1:n\n",
    "        if (v_tau[i]/p_tau[i])>max_num\n",
    "            max_num = v_tau[i]/p_tau[i]\n",
    "        end\n",
    "        \n",
    "        if (v_1[i]/p_1[i])>max_denum\n",
    "            max_denum = v_1[i]/p_1[i]\n",
    "        end\n",
    "    end\n",
    "    \n",
    "    speedup = max_num/max_denum\n",
    "    return speedup\n",
    "end\n",
    "        "
   ]
  },
  {
   "cell_type": "code",
   "execution_count": 170,
   "metadata": {
    "collapsed": false
   },
   "outputs": [
    {
     "name": "stdout",
     "output_type": "stream",
     "text": [
      "[1000.0,999.0,998.0,997.0,996.0,995.0,994.0,993.0,992.0,991.0][1000.0,999.0,998.0,997.0,996.0,995.0,994.0,993.0,992.0,991.0][1000.0,999.0,998.0,997.0,996.0,995.0,994.0,993.0,992.0,991.0][1000.0,999.0,998.0,997.0,996.0,995.0,994.0,993.0,992.0,991.0][1000.0,999.0,998.0,997.0,996.0,995.0,994.0,993.0,992.0,991.0][1000.0,999.0,998.0,997.0,996.0,995.0,994.0,993.0,992.0,991.0][1000.0,999.0,998.0,997.0,996.0,995.0,994.0,993.0,992.0,991.0][1000.0,999.0,998.0,997.0,996.0,995.0,994.0,993.0,992.0,991.0][1000.0,999.0,998.0,997.0,996.0,995.0,994.0,993.0,992.0,991.0][1000.0,999.0,998.0,997.0,996.0,995.0,994.0,993.0,992.0,991.0][1000.0,999.0,998.0,997.0,996.0,995.0,994.0,993.0,992.0,991.0][1000.0,999.0,998.0,997.0,996.0,995.0,994.0,993.0,992.0,991.0][1000.0,999.0,998.0,997.0,996.0,995.0,994.0,993.0,992.0,991.0][1000.0,999.0,998.0,997.0,996.0,995.0,994.0,993.0,992.0,991.0][1000.0,999.0,998.0,997.0,996.0,995.0,994.0,993.0,992.0,991.0][1000.0,999.0,998.0,997.0,996.0,995.0,994.0,993.0,992.0,991.0][1000.0,999.0,998.0,997.0,996.0,995.0,994.0,993.0,992.0,991.0][1000.0,999.0,998.0,997.0,996.0,995.0,994.0,993.0,992.0,991.0][1000.0,999.0,998.0,997.0,996.0,995.0,994.0,993.0,992.0,991.0][1000.0,999.0,998.0,997.0,996.0,995.0,994.0,993.0,992.0,991.0][1000.0,999.0,998.0,997.0,996.0,995.0,994.0,993.0,992.0,991.0][1000.0,999.0,998.0,997.0,996.0,995.0,994.0,993.0,992.0,991.0][1000.0,999.0,998.0,997.0,996.0,995.0,994.0,993.0,992.0,991.0][1000.0,999.0,998.0,997.0,996.0,995.0,994.0,993.0,992.0,991.0][1000.0,999.0,998.0,997.0,996.0,995.0,994.0,993.0,992.0,991.0][1000.0,999.0,998.0,997.0,996.0,995.0,994.0,993.0,992.0,991.0][1000.0,999.0,998.0,997.0,996.0,995.0,994.0,993.0,992.0,991.0][1000.0,999.0,998.0,997.0,996.0,995.0,994.0,993.0,992.0,991.0][1000.0,999.0,998.0,997.0,996.0,995.0,994.0,993.0,992.0,991.0][1000.0,999.0,998.0,997.0,996.0,995.0,994.0,993.0,992.0,991.0][1000.0,999.0,998.0,997.0,996.0,995.0,994.0,993.0,992.0,991.0][1000.0,999.0,998.0,997.0,996.0,995.0,994.0,993.0,992.0,991.0][1000.0,999.0,998.0,997.0,996.0,995.0,994.0,993.0,992.0,991.0][1000.0,999.0,998.0,997.0,996.0,995.0,994.0,993.0,992.0,991.0][1000.0,999.0,998.0,997.0,996.0,995.0,994.0,993.0,992.0,991.0][1000.0,999.0,998.0,997.0,996.0,995.0,994.0,993.0,992.0,991.0][1000.0,999.0,998.0,997.0,996.0,995.0,994.0,993.0,992.0,991.0][1000.0,999.0,998.0,997.0,996.0,995.0,994.0,993.0,992.0,991.0][1000.0,999.0,998.0,997.0,996.0,995.0,994.0,993.0,992.0,991.0][1000.0,999.0,998.0,997.0,996.0,995.0,994.0,993.0,992.0,991.0][1000.0,999.0,998.0,997.0,996.0,995.0,994.0,993.0,992.0,991.0][1000.0,999.0,998.0,997.0,996.0,995.0,994.0,993.0,992.0,991.0][1000.0,999.0,998.0,997.0,996.0,995.0,994.0,993.0,992.0,991.0][1000.0,999.0,998.0,997.0,996.0,995.0,994.0,993.0,992.0,991.0][1000.0,999.0,998.0,997.0,996.0,995.0,994.0,993.0,992.0,991.0][1000.0,999.0,998.0,997.0,996.0,995.0,994.0,993.0,992.0,991.0][1000.0,999.0,998.0,997.0,996.0,995.0,994.0,993.0,992.0,991.0][1000.0,999.0,998.0,997.0,996.0,995.0,994.0,993.0,992.0,991.0][1000.0,999.0,998.0,997.0,996.0,995.0,994.0,993.0,992.0,991.0][1000.0,999.0,998.0,997.0,996.0,995.0,994.0,993.0,992.0,991.0][1000.0,999.0,998.0,997.0,996.0,995.0,994.0,993.0,992.0,991.0][1000.0,999.0,998.0,997.0,996.0,995.0,994.0,993.0,992.0,991.0][1000.0,999.0,998.0,997.0,996.0,995.0,994.0,993.0,992.0,991.0][1000.0,999.0,998.0,997.0,996.0,995.0,994.0,993.0,992.0,991.0][1000.0,999.0,998.0,997.0,996.0,995.0,994.0,993.0,992.0,991.0][1000.0,999.0,998.0,997.0,996.0,995.0,994.0,993.0,992.0,991.0][1000.0,999.0,998.0,997.0,996.0,995.0,994.0,993.0,992.0,991.0][1000.0,999.0,998.0,997.0,996.0,995.0,994.0,993.0,992.0,991.0][1000.0,999.0,998.0,997.0,996.0,995.0,994.0,993.0,992.0,991.0][1000.0,999.0,998.0,997.0,996.0,995.0,994.0,993.0,992.0,991.0][1.0; 0.923726; 0.921423; 0.920271; 0.91958; 0.919119; 0.91879; 0.918543; 0.918352; 0.918198; 0.918072; 0.917968; 0.917879; 0.917803; 0.917737; 0.91768; 0.917629; 0.917584; 0.917543; 0.917507; 0.917474; 0.917444; 0.917417; 0.917392; 0.917369; 0.917348; 0.917328; 0.91731; 0.917293; 0.917277]"
     ]
    }
   ],
   "source": [
    "tau_speedup = zeros(30,1)\n",
    "for i = 1:30\n",
    "    tau_speedup[i] = PlotSpeedup(B, alpha, gamma, i)\n",
    "end\n",
    "\n",
    "print(tau_speedup)"
   ]
  },
  {
   "cell_type": "code",
   "execution_count": 174,
   "metadata": {
    "collapsed": false
   },
   "outputs": [
    {
     "data": {
      "image/png": "[encoded data removed]",
      "text/plain": [
       "PyPlot.Figure(PyObject <matplotlib.figure.Figure object at 0x3194d7e90>)"
      ]
     },
     "metadata": {},
     "output_type": "display_data"
    }
   ],
   "source": [
    "# Plot\n",
    "using PyPlot\n",
    "\n",
    "p = plot(1:30,tau_speedup)\n",
    "xlabel(\"X\")\n",
    "ylabel(\"Y\")\n",
    "title(\"Your Title Goes Here\")\n",
    "grid(\"on\")"
   ]
  },
  {
   "cell_type": "code",
   "execution_count": 175,
   "metadata": {
    "collapsed": false
   },
   "outputs": [
    {
     "name": "stderr",
     "output_type": "stream",
     "text": [
      "WARNING: Method definition NSyncMinibatch(Any, Any, Any, Any, Any, Any) in module Main at In[172]:10 overwritten at In[175]:10.\n"
     ]
    },
    {
     "data": {
      "text/plain": [
       "NSyncMinibatch (generic function with 1 method)"
      ]
     },
     "execution_count": 175,
     "metadata": {},
     "output_type": "execute_result"
    }
   ],
   "source": [
    "srand(12345)\n",
    "x0 = randn(n,1)*100\n",
    "global c_1 = zeros(d,1)    # for new_nomenclature (for the case s <-1)\n",
    "global c_3 = zeros(d,1)    # for new_nomenclature (for the case s > 1)\n",
    "                           # for new_nomenclature (the case s \\in (-1,1) just put 0)\n",
    "global A = zeros(d,n)      # for new_nomenclature\n",
    "global M_factor = zeros(d,n);\n",
    "\n",
    "function NSyncMinibatch(B, alpha, gamma, tau, x0, k)\n",
    "    v = ComputeESO(B, alpha, gamma, tau);\n",
    "    dfx = zeros(n,1)\n",
    "    h = zeros(n,1)\n",
    "    for i = 1:k\n",
    "        selected = samplingK(tau, n)\n",
    "        for j = 1:tau\n",
    "            dfx[selected[j]] = df_calc(x0, A, c_1, c_3, gamma, alpha, selected[j])\n",
    "            h[selected[j]] = -dfx[selected[j]]/v[selected[j]] # Using the formula in lecture 6 for h\n",
    "            x0[selected[j]] = x0[selected[j]] + h[selected[j]]\n",
    "        end\n",
    "        fx = f_calc(x0, A, c_1, c_3, gamma, alpha)[1]\n",
    "        if i % 1000 == 0\n",
    "            println(\"iter = $i ;;; fx = $fx\")\n",
    "        end\n",
    "    end\n",
    "    return \n",
    "end\n"
   ]
  },
  {
   "cell_type": "code",
   "execution_count": 176,
   "metadata": {
    "collapsed": false
   },
   "outputs": [
    {
     "name": "stdout",
     "output_type": "stream",
     "text": [
      "[1000.0,999.0,998.0,997.0,996.0,995.0,994.0,993.0,992.0,991.0]iter = 1000 ;;; fx = 98356.18128525009\n",
      "iter = 2000 ;;; fx = 15960.437429953196\n",
      "iter = 3000 ;;; fx = 2835.8247345820123\n",
      "iter = 4000 ;;; fx = 546.406319394214\n",
      "iter = 5000 ;;; fx = 111.82222440853035\n",
      "iter = 6000 ;;; fx = 23.108777556154116\n",
      "iter = 7000 ;;; fx = 5.419489114883662\n",
      "iter = 8000 ;;; fx = 1.3152870060759996\n",
      "iter = 9000 ;;; fx = 0.2816454740272872\n",
      "iter = 10000 ;;; fx = 0.0749922502973561\n",
      "iter = 11000 ;;; fx = 0.01801484243992625\n",
      "iter = 12000 ;;; fx = 0.005350259051457395\n",
      "iter = 13000 ;;; fx = 0.0018425221913762903\n",
      "iter = 14000 ;;; fx = 0.001208572216871511\n",
      "iter = 15000 ;;; fx = 0.0009822137123385057\n"
     ]
    }
   ],
   "source": [
    "NSyncMinibatch(B, alpha, gamma, 10, x0, 15000)"
   ]
  },
  {
   "cell_type": "markdown",
   "metadata": {
    "collapsed": true
   },
   "source": [
    "In the first section the problem was defined as:\n",
    "\n",
    "$$f(x) = \\frac{1}{2}||Ax + c||^2_2  + \\gamma ||x^Tx||$$\n",
    "\n",
    "With each row of A equal to $A_j = \\frac{b_j^T}{\\sqrt{\\alpha_j}}$ and each element of c equal to $c_j = \\frac{1}{\\sqrt{\\alpha_j}}$. In machine learning this optimization problem can be seen as the augmented problem below, with $D = {A \\choose \\sqrt{\\gamma}I}$ and $e = {c \\choose 0}$ (with c the original vector c and 0 all the others entries):\n",
    "\n",
    "$$f(x) = \\frac{1}{2} ||Dx + e||^2_2$$\n",
    "\n",
    "$$f(x) = \\frac{1}{2} (Dx+e)^T (Dx+e)$$\n",
    "\n",
    "$$f(x) = \\frac{1}{2} x^TD^TDx + x^TD^Te + \\frac{1}{2} e^T e$$\n",
    "\n",
    "With these formulations and using multiplication by blocks, $D^TD$ is equivalent to $(A \\sqrt{\\gamma}I) {A \\choose \\sqrt{\\gamma}I} = A^T A + \\gamma I $, $ x^T D^T e = x^T(A \\sqrt{\\gamma}I) {c \\choose 0} = x^TA^Tc $ and e^T e = c^T c. So:\n",
    "\n",
    "$$f(x) = \\frac{1}{2} x^T (A^T A + \\gamma I) x + x^TA^Tc + \\frac{1}{2} c^T c$$\n",
    "$$f(x) = \\frac{1}{2} x^T (A^T A)x + x^T (\\gamma I) x + x^TA^Tc + \\frac{1}{2} c^T c$$\n",
    "$$f(x) = \\frac{1}{2} (Ax +c)^T (Ax+c) + \\gamma x^Tx $$\n",
    "\n",
    "Then, both problems are equivalent. Now, we should inspect the behaviour of the other parameters. To calculate the $v_i$'s we need to compute $\\omega_j$, but with this new formulation of $D \\in R^{(n+d) \\times n}$. Consequently we need $(n+d)$ $\\omega_j$!!! \n",
    "\n",
    "Fortunately, all of the $\\omega_j$ from $j = d+1$ to $n+d$ are 1 (because of the diagonal matrix $\\sqrt{\\gamma} I$). So, in the formula (36) of lecture seven, the factor $\\frac{(\\omega_j -1)( \\tau-1)}{max(n-1, 1)}$ becomes 0 for all the $j$ in this range. Now, the sum from $j = d+1$ to $n+d$ is simplified to sum just $A_{ji}^2$. Because of the diagonal matrix in this block of the matrix, just one summand is added to the sum, and it is the one in the diagonal: $\\gamma$. As a consequence, it is possible just to use the original \n",
    "\n",
    "Explain.....\n",
    "\n",
    "1) why cholesky is more expensive\n",
    "2) why we only need the first rows of the matrix\n",
    "\n",
    "\n",
    "\n",
    "\n"
   ]
  },
  {
   "cell_type": "code",
   "execution_count": null,
   "metadata": {
    "collapsed": true
   },
   "outputs": [],
   "source": []
  }
 ],
 "metadata": {
  "kernelspec": {
   "display_name": "Julia 0.5.0",
   "language": "julia",
   "name": "julia-0.5"
  },
  "language_info": {
   "file_extension": ".jl",
   "mimetype": "application/julia",
   "name": "julia",
   "version": "0.5.0"
  }
 },
 "nbformat": 4,
 "nbformat_minor": 2
}
