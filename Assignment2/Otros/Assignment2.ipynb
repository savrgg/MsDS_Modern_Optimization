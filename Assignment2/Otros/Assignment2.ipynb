{
 "cells": [
  {
   "cell_type": "markdown",
   "metadata": {},
   "source": [
    "## Assignment 2 -- Salvador GARCIA -- s1655274"
   ]
  },
  {
   "cell_type": "markdown",
   "metadata": {},
   "source": [
    "## Problem 1"
   ]
  },
  {
   "cell_type": "code",
   "execution_count": 1,
   "metadata": {
    "collapsed": false
   },
   "outputs": [
    {
     "data": {
      "text/plain": [
       "1000×1 Array{Float64,2}:\n",
       " 126.456   \n",
       "  61.9053  \n",
       "  35.5415  \n",
       "  16.1533  \n",
       "   7.64681 \n",
       "   5.48392 \n",
       "   2.27295 \n",
       "   1.55544 \n",
       "   1.15212 \n",
       "   0.813018\n",
       "   0.925661\n",
       "   0.480439\n",
       "   0.168373\n",
       "   ⋮       \n",
       "   0.188166\n",
       "   1.85226 \n",
       "   0.93004 \n",
       "   0.621652\n",
       "   2.02083 \n",
       "   0.683703\n",
       "   0.91749 \n",
       "   0.809517\n",
       "   2.72723 \n",
       "   0.318202\n",
       "   0.934744\n",
       "   0.315108"
      ]
     },
     "execution_count": 1,
     "metadata": {},
     "output_type": "execute_result"
    }
   ],
   "source": [
    "srand(1234)\n",
    "n = 1000\n",
    "d = 10\n",
    "B = randn(d, n)\n",
    "alpha = zeros(d,1)\n",
    "c = rand(d,1)\n",
    "for i = 1:d\n",
    "    alpha[i] = n/i\n",
    "    c[i] = 1/(sqrt(alpha[i]))\n",
    "end\n",
    "gamma = 1/d\n",
    "tau = 1\n",
    "function ComputeESO(B,alpha,gamma,tau)\n",
    "    n = size(B, 2)\n",
    "    d = size(B, 1)\n",
    "    for j = 1:d\n",
    "        alpha[j] = n/j\n",
    "        B[j,:] = B[j,:]/sqrt(alpha[j])\n",
    "    end\n",
    "    M = B'* B + 2 *gamma* eye(n)\n",
    "    A = chol(M)\n",
    "\n",
    "    omega = zeros(d,1)\n",
    "    v = zeros(n,1)\n",
    "    for i = 1:n\n",
    "        for j = 1:d\n",
    "            if A[j,i]!=0\n",
    "                omega[j] += 1\n",
    "            end\n",
    "        end\n",
    "    end\n",
    "    \n",
    "    for i = 1:n\n",
    "        for j = 1:d\n",
    "            v[i] += v[i]+(1+(tau-1)*(omega[j]-1)/(n-1))*A[j,i]*A[j,i]\n",
    "        end\n",
    "    end\n",
    "    return v\n",
    "end\n",
    "v = ComputeESO(B, alpha, gamma, tau)"
   ]
  },
  {
   "cell_type": "code",
   "execution_count": 2,
   "metadata": {
    "collapsed": false
   },
   "outputs": [
    {
     "data": {
      "text/plain": [
       "10×1000 Array{Float64,2}:\n",
       "  0.0274279  -0.0177246     0.0494633   …   0.0190564  -0.0174129 \n",
       " -0.0403272  -0.000862755  -0.0624639       0.0160219   0.0159993 \n",
       " -0.0270837   0.00701438    0.0605506       0.0690947  -0.0346566 \n",
       " -0.0571053   0.11718      -0.0699957      -0.0523323  -0.0576553 \n",
       "  0.0611224  -0.0585317    -0.227077       -0.0659594  -0.0200894 \n",
       "  0.171331    0.00852801   -0.00573314  …   0.0261033  -0.0271092 \n",
       "  0.0445784  -0.0210149     0.0126315      -0.0118249   0.0800076 \n",
       " -0.0243048   0.0330682     0.0688063      -0.139951    0.103153  \n",
       "  0.0476556   0.00684156   -0.0294237       0.0516403   0.179206  \n",
       " -0.0516984  -0.150343     -0.0602707       0.143553    0.00995793"
      ]
     },
     "execution_count": 2,
     "metadata": {},
     "output_type": "execute_result"
    }
   ],
   "source": [
    "B"
   ]
  },
  {
   "cell_type": "code",
   "execution_count": 3,
   "metadata": {
    "collapsed": false
   },
   "outputs": [
    {
     "name": "stdout",
     "output_type": "stream",
     "text": [
      "LHS:  53.30413815181462 ;;;; RHS:  54.2265140205425\n"
     ]
    }
   ],
   "source": [
    "using Distributions\n",
    "\n",
    "x = rand(n,1)\n",
    "fx = 1/2*x'*B'*B*x + c'*B*x + 1/2*c'*c + gamma*x'x\n",
    "dfx = x'*B'*B + c'*B + 2*gamma*x'\n",
    "\n",
    "p = zeros(n,1)\n",
    "p = p.+tau/n\n",
    "\n",
    "h = -diagm(1./v[1:n])*dfx'\n",
    "\n",
    "f1 = zeros(n, 1)\n",
    "f2 = zeros(n, 1)\n",
    "for i = 1:n\n",
    "    f1[i] = p[i]*dfx[i]*v[i]\n",
    "    f2[i] = p[i]*h[i]*v[i]*h[i]\n",
    "end\n",
    "\n",
    "RHS = (fx +sum(f1)+sum(f2))[1]\n",
    "x_samples_vec = zeros(1000, 1)\n",
    "for i = 1:1000\n",
    "    x_samples = copy(x)\n",
    "    ss = sample(1:n, tau, replace = false)\n",
    "    for j = 1:tau\n",
    "        x_samples[ss[j]] = x_samples[ss[j]] + h[ss[j]]*v[ss[j]]\n",
    "    end\n",
    "    x_samples_vec[i] = (1/2*x_samples'*B'*B*x_samples + c'*B*x_samples + 1/2*c'*c + gamma*x_samples'x_samples)[1]\n",
    "    #println(\"original: $fx ;;;; nuevo: $x_samples_vec\")\n",
    "end\n",
    "LHS = mean(x_samples_vec)\n",
    "println(\"LHS:  $LHS ;;;; RHS:  $RHS\")"
   ]
  },
  {
   "cell_type": "code",
   "execution_count": 4,
   "metadata": {
    "collapsed": false
   },
   "outputs": [
    {
     "name": "stdout",
     "output_type": "stream",
     "text": [
      "Objetivo: [0.0275]\n",
      "Objetivo: [0.0269078]\n",
      "Objetivo: [0.026822]\n",
      "Objetivo: [0.0260549]\n",
      "Objetivo: [0.0257862]\n",
      "Objetivo: [0.025783]\n",
      "Objetivo: [0.025203]\n",
      "Objetivo: [0.0247457]\n",
      "Objetivo: [0.0247349]\n",
      "Objetivo: [0.0246872]\n"
     ]
    }
   ],
   "source": [
    "using Distributions\n",
    "    x = zeros(n,1)\n",
    "    p = zeros(n,1)\n",
    "    p = p.+tau/n\n",
    "\n",
    "for i = 1:10\n",
    "    fx = 1/2*x'*B'*B*x + c'*B*x + 1/2*c'*c + gamma*x'x\n",
    "    println(\"Objetivo: $fx\")\n",
    "    dfx = x'*B'*B + c'*B + 2*gamma*x'\n",
    "    h = -diagm(1./v[1:n])*dfx'\n",
    "    ss = sample(1:n, tau, replace = false)\n",
    "    for j = 1:tau\n",
    "        x[ss[j]] = x[ss[j]] + h[ss[j]]*v[ss[j]]\n",
    "    end\n",
    "end\n",
    "\n"
   ]
  },
  {
   "cell_type": "code",
   "execution_count": null,
   "metadata": {
    "collapsed": true
   },
   "outputs": [],
   "source": []
  },
  {
   "cell_type": "code",
   "execution_count": 7,
   "metadata": {
    "collapsed": false
   },
   "outputs": [
    {
     "name": "stdout",
     "output_type": "stream",
     "text": [
      "1\n",
      "1.0"
     ]
    }
   ],
   "source": [
    "using Distributions\n",
    "\n",
    "\n",
    "salida = 0\n",
    "for k = 1:100\n",
    "    x = rand(n,1)\n",
    "    fx = 1/2*x'*B'*B*x + c'*B*x + 1/2*c'*c + gamma*x'x\n",
    "    dfx = x'*B'*B + c'*B + 2*gamma*x'\n",
    "\n",
    "    p = zeros(n,1)\n",
    "    p = p.+tau/n\n",
    "\n",
    "    h = -diagm(1./v[1:n])*dfx'\n",
    "\n",
    "    f1 = zeros(n, 1)\n",
    "    f2 = zeros(n, 1)\n",
    "    for i = 1:n\n",
    "        f1[i] = p[i]*dfx[i]*v[i]\n",
    "        f2[i] = p[i]*h[i]*v[i]*h[i]\n",
    "    end\n",
    "\n",
    "    RHS = fx +sum(f1)+sum(f2)\n",
    "\n",
    "    x_samples_vec = zeros(100,1)\n",
    "\n",
    "    for i = 1:1000\n",
    "        x_samples = copy(x)\n",
    "        ss = sample(1:n, tau, replace = false)\n",
    "        for j = 1:tau\n",
    "            x_samples[ss[j]] = x_samples[ss[j]] + h[ss[j]]*v[ss[j]]\n",
    "        end\n",
    "        x_samples_vec = (1/2*x_samples'*B'*B*x_samples + c'*B*x_samples + 1/2*c'*c + gamma*x_samples'x_samples)[1]\n",
    "    end\n",
    "    LHS = mean(x_samples_vec)\n",
    "    \n",
    "    if (RHS[1]-LHS)>=0\n",
    "        salida = salida +1\n",
    "    end\n",
    "end\n",
    "println(tau)\n",
    "print(salida/100)\n",
    "\n"
   ]
  },
  {
   "cell_type": "code",
   "execution_count": null,
   "metadata": {
    "collapsed": true
   },
   "outputs": [],
   "source": []
  }
 ],
 "metadata": {
  "kernelspec": {
   "display_name": "Julia 0.5.0",
   "language": "julia",
   "name": "julia-0.5"
  },
  "language_info": {
   "file_extension": ".jl",
   "mimetype": "application/julia",
   "name": "julia",
   "version": "0.5.0"
  }
 },
 "nbformat": 4,
 "nbformat_minor": 2
}
