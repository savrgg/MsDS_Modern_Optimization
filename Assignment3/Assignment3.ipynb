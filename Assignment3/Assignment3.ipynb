{
 "cells": [
  {
   "cell_type": "markdown",
   "metadata": {},
   "source": [
    "## Assignment 3 -- SALVADOR GARCIA -- s1655274"
   ]
  },
  {
   "cell_type": "markdown",
   "metadata": {},
   "source": [
    "## Problem 1"
   ]
  },
  {
   "cell_type": "code",
   "execution_count": 205,
   "metadata": {
    "collapsed": false
   },
   "outputs": [
    {
     "name": "stderr",
     "output_type": "stream",
     "text": [
      "WARNING: Method definition GenerateData(Any, Any, Any, Any, Any, Any) in module Main at In[191]:2 overwritten at In[205]:2.\n"
     ]
    },
    {
     "data": {
      "text/plain": [
       "GenerateData (generic function with 1 method)"
      ]
     },
     "execution_count": 205,
     "metadata": {},
     "output_type": "execute_result"
    }
   ],
   "source": [
    "function GenerateData(n::Int64, d::Int64, theta,a_pos,a_neg,sigma) \n",
    "    X = zeros(d, n)\n",
    "    y = zeros(n, 1)\n",
    "    for i = 1:n\n",
    "        t = rand()\n",
    "        if t < theta\n",
    "            X[:,i] = (randn(d, 1)*sigma + ones(d,1)*a_pos)\n",
    "            y[i] = 1\n",
    "        else\n",
    "            X[:,i] = (randn(d, 1)*sigma + ones(d,1)*a_neg)\n",
    "            y[i] = -1\n",
    "        end\n",
    "    end\n",
    "    return (X, y)\n",
    "end "
   ]
  },
  {
   "cell_type": "markdown",
   "metadata": {},
   "source": [
    "## Problem 2"
   ]
  },
  {
   "cell_type": "code",
   "execution_count": 227,
   "metadata": {
    "collapsed": false
   },
   "outputs": [
    {
     "name": "stderr",
     "output_type": "stream",
     "text": [
      "WARNING: Method definition SmoothedHingeLoss(Any, Any) in module Main at In[224]:2 overwritten at In[227]:2.\n"
     ]
    },
    {
     "data": {
      "text/plain": [
       "SmoothedHingeLoss (generic function with 1 method)"
      ]
     },
     "execution_count": 227,
     "metadata": {},
     "output_type": "execute_result"
    }
   ],
   "source": [
    "function SmoothedHingeLoss(X,y)\n",
    "    function SHL(i,w)\n",
    "        z = y[i]*(X[:,i]'*w)[1]        # Calculate just 1 time\n",
    "        if z > 1\n",
    "            return 0\n",
    "        elseif z < 0\n",
    "            return (.5 - z)\n",
    "        else\n",
    "            return (.5*(1-z)*(1-z))\n",
    "        end\n",
    "    end\n",
    "    \n",
    "    function SHLgrad(i,w)\n",
    "        z = y[i]*(X[:,i]'*w)[1]\n",
    "        if z > 1\n",
    "            return 0\n",
    "        elseif z < 0\n",
    "            return (-y[i])\n",
    "        else\n",
    "            return (-y[i]+(y[i]*z))\n",
    "        end\n",
    "    end\n",
    "    \n",
    "    P(w) = (1/n)*sum([SHL(i,w) for i=1:n]) + (lambda/2*w'*w)[1]\n",
    "    return (SHLgrad, P)\n",
    "end"
   ]
  },
  {
   "cell_type": "code",
   "execution_count": 230,
   "metadata": {
    "collapsed": false
   },
   "outputs": [
    {
     "name": "stdout",
     "output_type": "stream",
     "text": [
      "-0.8146621668362124\n",
      "0.3198231550036817\n"
     ]
    }
   ],
   "source": [
    "srand(123456)\n",
    "d = 2\n",
    "n = 10^3\n",
    "lambda = 1/n\n",
    "theta = 0.5\n",
    "N = 1000\n",
    "\n",
    "X, y = GenerateData(n, d, theta, 10, -10, 1);\n",
    "SHLgrad, P = SmoothedHingeLoss(X, y)\n",
    "println(SHLgrad(3, [.01,.01]))\n",
    "println(P([.01,.01]))"
   ]
  },
  {
   "cell_type": "markdown",
   "metadata": {},
   "source": [
    "## Problem 3"
   ]
  },
  {
   "cell_type": "code",
   "execution_count": 207,
   "metadata": {
    "collapsed": false
   },
   "outputs": [
    {
     "name": "stderr",
     "output_type": "stream",
     "text": [
      "WARNING: Method definition SGD(Any, Any, Any) in module Main at In[193]:2 overwritten at In[207]:2.\n"
     ]
    },
    {
     "data": {
      "text/plain": [
       "SGD (generic function with 1 method)"
      ]
     },
     "execution_count": 207,
     "metadata": {},
     "output_type": "execute_result"
    }
   ],
   "source": [
    "function SGD(h, N, w0)\n",
    "    fx_val = zeros(N,1)\n",
    "    w = zeros(d, 1)\n",
    "    w = w0\n",
    "    print(P(w))\n",
    "    for i =1:N\n",
    "        selected_ind = rand(1:n, 1)[1]\n",
    "        w = w - h*(SHLgrad(selected_ind, w)*X[:,selected_ind]+ lambda*w)\n",
    "        fx_val[i] = P(w)\n",
    "    end\n",
    "    return (fx_val, w)\n",
    "end"
   ]
  },
  {
   "cell_type": "code",
   "execution_count": 208,
   "metadata": {
    "collapsed": false
   },
   "outputs": [
    {
     "name": "stdout",
     "output_type": "stream",
     "text": [
      "10.0"
     ]
    },
    {
     "ename": "LoadError",
     "evalue": "InterruptException:",
     "output_type": "error",
     "traceback": [
      "InterruptException:",
      "",
      " in (::#SHL#56{Array{Float64,2},Array{Float64,2}})(::Int64, ::Array{Float64,1}) at ./In[206]:3",
      " in collect_to!(::Array{Int64,1}, ::Base.Generator{UnitRange{Int64},##55#59{Array{Float64,1},#SHL#56{Array{Float64,2},Array{Float64,2}}}}, ::Int64, ::Int64) at ./array.jl:340",
      " in collect_to_with_first!(::Array{Int64,1}, ::Int64, ::Base.Generator{UnitRange{Int64},##55#59{Array{Float64,1},#SHL#56{Array{Float64,2},Array{Float64,2}}}}, ::Int64) at ./array.jl:327",
      " in collect(::Base.Generator{UnitRange{Int64},##55#59{Array{Float64,1},#SHL#56{Array{Float64,2},Array{Float64,2}}}}) at ./array.jl:308",
      " in (::#P#58{#SHL#56{Array{Float64,2},Array{Float64,2}}})(::Array{Float64,1}) at ./In[206]:26",
      " in SGD(::Float64, ::Int64, ::Array{Int64,1}) at ./In[207]:9"
     ]
    }
   ],
   "source": [
    "srand(123456)\n",
    "d = 2\n",
    "n = 10^3\n",
    "lambda = 1/n\n",
    "theta = 0.5\n",
    "N = 1000\n",
    "\n",
    "X, y = GenerateData(n, d, theta, 10, -10, 1);\n",
    "SHLgrad, P = SmoothedHingeLoss(X, y)\n",
    "fx_r_1, w_sgd1 = SGD(.1, N, [100,100]);\n",
    "fx_r_4, w_sgd2 = SGD(.4, N, [100,100]);\n",
    "fx_r1, w_sgd3 = SGD(1, N, [100,100]);\n",
    "fx_r4, w_sgd4 = SGD(4, N, [100,100]);\n"
   ]
  },
  {
   "cell_type": "code",
   "execution_count": 209,
   "metadata": {
    "collapsed": false
   },
   "outputs": [
    {
     "data": {
      "text/plain": [
       "2-element Array{Float64,1}:\n",
       " 0.0594365\n",
       " 0.0609136"
      ]
     },
     "execution_count": 209,
     "metadata": {},
     "output_type": "execute_result"
    }
   ],
   "source": [
    "w_fin"
   ]
  },
  {
   "cell_type": "code",
   "execution_count": 210,
   "metadata": {
    "collapsed": false
   },
   "outputs": [
    {
     "data": {
      "image/png": "[encoded data removed]",
      "text/plain": [
       "PyPlot.Figure(PyObject <matplotlib.figure.Figure object at 0x3183afd10>)"
      ]
     },
     "metadata": {},
     "output_type": "display_data"
    }
   ],
   "source": [
    "using PyPlot\n",
    "plt[:plot](1:N, fx_r_1, \"-\", linewidth=1.0, label=\"Density = .1\")\n",
    "plt[:plot](1:N, fx_r_4, \"-\", linewidth=1.0, label=\"Density = .4\")\n",
    "plt[:plot](1:N, fx_r1, \"-\", linewidth=1.0, label=\"Density = 1\")\n",
    "plt[:plot](1:N, fx_r4, \"-\", linewidth=1.0, label=\"Density = 4\")\n",
    "legend(loc=\"upper right\")\n",
    "xlabel(L\"\\tau\")\n",
    "ylabel(L\"\\Omega(\\tau)/\\Omega(1)\")\n",
    "title(\"Speed up when tau changes\")\n",
    "grid(\"on\")\n"
   ]
  },
  {
   "cell_type": "markdown",
   "metadata": {},
   "source": [
    "## Problem 4"
   ]
  },
  {
   "cell_type": "code",
   "execution_count": 260,
   "metadata": {
    "collapsed": false
   },
   "outputs": [
    {
     "name": "stderr",
     "output_type": "stream",
     "text": [
      "WARNING: Method definition dfSDCA(Any, Any) in module Main at In[259]:2 overwritten at In[260]:2.\n"
     ]
    },
    {
     "data": {
      "text/plain": [
       "100×1 Array{Float64,2}:\n",
       " 0.0448101  \n",
       " 0.00982728 \n",
       " 0.00186997 \n",
       " 0.00131025 \n",
       " 0.00131025 \n",
       " 0.000289219\n",
       " 0.000194227\n",
       " 0.000194227\n",
       " 0.000194227\n",
       " 0.000194227\n",
       " 0.000152152\n",
       " 0.000152152\n",
       " 0.000152152\n",
       " ⋮          \n",
       " 2.06474e-5 \n",
       " 2.06474e-5 \n",
       " 2.06474e-5 \n",
       " 2.06474e-5 \n",
       " 2.06474e-5 \n",
       " 2.06474e-5 \n",
       " 2.06474e-5 \n",
       " 2.06474e-5 \n",
       " 2.06474e-5 \n",
       " 2.06474e-5 \n",
       " 2.06474e-5 \n",
       " 2.06474e-5 "
      ]
     },
     "execution_count": 260,
     "metadata": {},
     "output_type": "execute_result"
    }
   ],
   "source": [
    "function dfSDCA(N,alpha0)   \n",
    "    w = (1/(lambda*n))*X*alpha0\n",
    "    alpha = alpha0\n",
    "    w_p = zeros(N,1)\n",
    "    \n",
    "    theta = lambda/(norm(X[:,1])^2+n*lambda)    \n",
    "    \n",
    "    for i = 2:n\n",
    "        temp = lambda/(norm(X[:,i])^2+n*lambda)    \n",
    "        if temp < theta\n",
    "            theta = temp\n",
    "        end\n",
    "    end\n",
    "\n",
    "    for k = 1:N\n",
    "        selected_ind = rand(1:n, 1)[1]\n",
    "        alpha[selected_ind] -= n*theta*(SHLgrad(selected_ind, w)+alpha[selected_ind])        \n",
    "        w -= (theta/lambda)*(SHLgrad(selected_ind, w) + alpha[selected_ind])*X[:,selected_ind]\n",
    "        w_p[k] = P(w)\n",
    "    end\n",
    "    return (w_p, w) \n",
    "end\n",
    "\n",
    "srand(123456)\n",
    "α_0 = zeros(n)\n",
    "N = 100\n",
    "w_p, w_orig = dfSDCA(N, α_0);\n",
    "w_p"
   ]
  },
  {
   "cell_type": "code",
   "execution_count": 261,
   "metadata": {
    "collapsed": false
   },
   "outputs": [
    {
     "ename": "LoadError",
     "evalue": "InterruptException:",
     "output_type": "error",
     "traceback": [
      "InterruptException:",
      "",
      " in * at ./linalg/matmul.jl:129 [inlined]",
      " in Ac_mul_B at ./operators.jl:319 [inlined]",
      " in (::#SHL#66{Array{Float64,2},Array{Float64,2}})(::Int64, ::Array{Float64,2}) at ./In[227]:3",
      " in collect_to!(::Array{Real,1}, ::Base.Generator{UnitRange{Int64},##65#69{Array{Float64,2},#SHL#66{Array{Float64,2},Array{Float64,2}}}}, ::Int64, ::Int64) at ./array.jl:340",
      " in collect_to!(::Array{Int64,1}, ::Base.Generator{UnitRange{Int64},##65#69{Array{Float64,2},#SHL#66{Array{Float64,2},Array{Float64,2}}}}, ::Int64, ::Int64) at ./array.jl:350",
      " in collect_to_with_first!(::Array{Int64,1}, ::Int64, ::Base.Generator{UnitRange{Int64},##65#69{Array{Float64,2},#SHL#66{Array{Float64,2},Array{Float64,2}}}}, ::Int64) at ./array.jl:327",
      " in collect(::Base.Generator{UnitRange{Int64},##65#69{Array{Float64,2},#SHL#66{Array{Float64,2},Array{Float64,2}}}}) at ./array.jl:308",
      " in (::#P#68{#SHL#66{Array{Float64,2},Array{Float64,2}}})(::Array{Float64,2}) at ./In[227]:24",
      " in dfSDCA(::Int64, ::Array{Float64,2}) at ./In[260]:19"
     ]
    }
   ],
   "source": [
    "srand(123456)\n",
    "alpha0 = zeros(n,1)\n",
    "N = 100000\n",
    "w_p, w_orig = dfSDCA(N, alpha0);\n",
    "\n",
    "using PyPlot\n",
    "plt[:plot](1:N, w_p, \"-\", linewidth=1.0, label=\"\")\n",
    "legend(loc=\"upper right\")\n",
    "xlabel(L\"Iterations\")\n",
    "ylabel(L\"P(w)\")\n",
    "title(\"Decreasing with dfSDCA\")\n",
    "grid(\"on\")\n"
   ]
  },
  {
   "cell_type": "markdown",
   "metadata": {},
   "source": [
    "## Problem 5"
   ]
  },
  {
   "cell_type": "code",
   "execution_count": 201,
   "metadata": {
    "collapsed": false
   },
   "outputs": [
    {
     "name": "stderr",
     "output_type": "stream",
     "text": [
      "WARNING: Method definition samplingK(Any, Any) in module Main at In[199]:2 overwritten at In[201]:2.\n"
     ]
    },
    {
     "data": {
      "text/plain": [
       "samplingK (generic function with 1 method)"
      ]
     },
     "execution_count": 201,
     "metadata": {},
     "output_type": "execute_result"
    }
   ],
   "source": [
    "function samplingK(k, n) \n",
    "    reservoir = collect(1:k)\n",
    "    for i=(k+1):n\n",
    "        pos = rand(1:i)\n",
    "        if pos <= k\n",
    "            reservoir[pos] = i\n",
    "        end\n",
    "    end\n",
    "    return reservoir\n",
    "end"
   ]
  },
  {
   "cell_type": "code",
   "execution_count": 202,
   "metadata": {
    "collapsed": false
   },
   "outputs": [
    {
     "name": "stderr",
     "output_type": "stream",
     "text": [
      "WARNING: Method definition mdfSDCA(Any, Any, Any) in module Main at In[188]:2 overwritten at In[202]:2.\n"
     ]
    },
    {
     "data": {
      "text/plain": [
       "mdfSDCA (generic function with 1 method)"
      ]
     },
     "execution_count": 202,
     "metadata": {},
     "output_type": "execute_result"
    }
   ],
   "source": [
    "function mdfSDCA(N, tau, alpha0)\n",
    "    p=ones(n)*tau/n\n",
    "    v = [norm(X[:,i])^2 for i=1:n]\n",
    "    theta = minimum(p*lambda*n./(v + lambda*n))\n",
    "    w = (1/(lambda*n))*X*alpha0\n",
    "    alpha = alpha0\n",
    "    w_p = zeros(N,1)\n",
    "    \n",
    "    for k = 1:N\n",
    "        for i in samplingK(tau,n)      \n",
    "            delta = SHLgrad(i,w) + alpha[i] \n",
    "            alpha[i] -= theta/p[i]*(delta)\n",
    "            w -= (X[:,i]*theta*delta) / (lambda*n*p[i])\n",
    "        end\n",
    "        w_p[k] = P(w)\n",
    "    end\n",
    "    return (w_p, w) \n",
    "end"
   ]
  },
  {
   "cell_type": "code",
   "execution_count": 203,
   "metadata": {
    "collapsed": false
   },
   "outputs": [
    {
     "data": {
      "image/png": "[encoded data removed]",
      "text/plain": [
       "PyPlot.Figure(PyObject <matplotlib.figure.Figure object at 0x318dfb310>)"
      ]
     },
     "metadata": {},
     "output_type": "display_data"
    }
   ],
   "source": [
    "srand(123456)\n",
    "alpha0 = zeros(n,1)\n",
    "N = 100000\n",
    "tau = 10\n",
    "w_p, w_mult = mdfSDCA(N, tau, alpha0);\n",
    "\n",
    "using PyPlot\n",
    "plt[:plot](1:N, w_p, \"-\", linewidth=1.0, label=\"\")\n",
    "legend(loc=\"upper right\")\n",
    "xlabel(L\"Iterations\")\n",
    "ylabel(L\"P(w)\")\n",
    "title(\"Decreasing with dfSDCA\")\n",
    "grid(\"on\")"
   ]
  },
  {
   "cell_type": "code",
   "execution_count": 204,
   "metadata": {
    "collapsed": false
   },
   "outputs": [
    {
     "name": "stdout",
     "output_type": "stream",
     "text": [
      "[0.0740803,0.072869]\n",
      "[0.0869896,0.0733434]\n",
      "[0.0729986,0.0899387]\n",
      "[0.208945,0.199096]\n",
      "[0.0633443; 0.0606573]\n",
      "[0.0630977; 0.0606762]\n"
     ]
    }
   ],
   "source": [
    "println(w_sgd1)\n",
    "println(w_sgd2)\n",
    "println(w_sgd3)\n",
    "println(w_sgd4)\n",
    "println(w_orig)\n",
    "println(w_mult)"
   ]
  },
  {
   "cell_type": "code",
   "execution_count": null,
   "metadata": {
    "collapsed": true
   },
   "outputs": [],
   "source": []
  },
  {
   "cell_type": "code",
   "execution_count": null,
   "metadata": {
    "collapsed": true
   },
   "outputs": [],
   "source": []
  }
 ],
 "metadata": {
  "kernelspec": {
   "display_name": "Julia 0.5.0",
   "language": "julia",
   "name": "julia-0.5"
  },
  "language_info": {
   "file_extension": ".jl",
   "mimetype": "application/julia",
   "name": "julia",
   "version": "0.5.0"
  }
 },
 "nbformat": 4,
 "nbformat_minor": 2
}
