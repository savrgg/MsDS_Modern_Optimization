{
 "cells": [
  {
   "cell_type": "markdown",
   "metadata": {},
   "source": [
    "## <center>  MATH11146: Modern Optimization Methods for Big Data Problems </center>\n",
    "\n",
    "<center> University of Edinburgh</center>\n",
    "\n",
    "<center>Lecturer: Peter Richtarik</center>\n",
    "\n",
    "<center>Tutors: Filip Hanzely, Nicolas Loizou and Sona Galovicova</center>\n",
    "\n",
    "##  <center>Lab 1 (with solutions): Introduction to Julia</center>\n",
    "<center>(C) Sona Galovicova and Peter Richtarik </center>\n",
    "<center> 16.1.2017 </center>\n",
    "\n",
    "### <font color='blue'>Scroll down to find the sample solutions.</font>\n",
    "\n",
    "\n",
    "## 1. About Julia\n",
    "\n",
    "All the labs will be in the Julia language. Julia is a young and developing language, first appearing in 2012. Think of Julia as a language which is nearly as fast as C, while being as easy to work with as MATLAB. Many important people think Julia will become the main language for scientific computing in the next decade or so. Presumably most of you have not worked with Julia before - do not worry about it, you will pick it up during the course. \n",
    "\n",
    "Julia documentation: http://docs.julialang.org/\n",
    "\n",
    "## 2. Generating random numbers\n",
    "\n",
    "### Uniform distribution\n",
    "\n",
    "As a start, we will learn how to generate random vectors and matrices. Run the cell below to generate a 10-dimensional vector, with values drawn from the uniform distribution on [0,1]."
   ]
  },
  {
   "cell_type": "code",
   "execution_count": null,
   "metadata": {
    "collapsed": false
   },
   "outputs": [],
   "source": [
    "v = rand(10)"
   ]
  },
  {
   "cell_type": "markdown",
   "metadata": {},
   "source": [
    "You can see the vector $v$ above. When you run a cell, the output of the last command is printed. If you don't want this to happen, you can suppress the output by ending the line with a semicolon ';'."
   ]
  },
  {
   "cell_type": "code",
   "execution_count": null,
   "metadata": {
    "collapsed": true
   },
   "outputs": [],
   "source": [
    "w = rand(5);"
   ]
  },
  {
   "cell_type": "markdown",
   "metadata": {},
   "source": [
    "You can always print your data later using the *print()* or *println()* methods."
   ]
  },
  {
   "cell_type": "code",
   "execution_count": null,
   "metadata": {
    "collapsed": false
   },
   "outputs": [],
   "source": [
    "println(w)"
   ]
  },
  {
   "cell_type": "markdown",
   "metadata": {},
   "source": [
    "Generating random  $m \\times n$ matrices works the same way:"
   ]
  },
  {
   "cell_type": "code",
   "execution_count": null,
   "metadata": {
    "collapsed": false
   },
   "outputs": [],
   "source": [
    "m = 3\n",
    "n = 5\n",
    "A = rand(m,n)"
   ]
  },
  {
   "cell_type": "markdown",
   "metadata": {},
   "source": [
    "... and so does generating arrays of higher dimensions."
   ]
  },
  {
   "cell_type": "code",
   "execution_count": null,
   "metadata": {
    "collapsed": false
   },
   "outputs": [],
   "source": [
    "T = rand(2,2,3)"
   ]
  },
  {
   "cell_type": "markdown",
   "metadata": {},
   "source": [
    "### Other distributions\n",
    "\n",
    "Julia has also ways to generate values from other distributions, for example\n",
    "\n",
    "- *normal distribution* with mean 0 and standard deviation 1:"
   ]
  },
  {
   "cell_type": "code",
   "execution_count": null,
   "metadata": {
    "collapsed": false
   },
   "outputs": [],
   "source": [
    "G = randn(3,4)"
   ]
  },
  {
   "cell_type": "markdown",
   "metadata": {},
   "source": [
    "- *exponential distribution* with scale 1:"
   ]
  },
  {
   "cell_type": "code",
   "execution_count": null,
   "metadata": {
    "collapsed": false
   },
   "outputs": [],
   "source": [
    "X = randexp(3,4)"
   ]
  },
  {
   "cell_type": "markdown",
   "metadata": {},
   "source": [
    "- for more, look at the documentation for the **Distributions** package: \n",
    "http://distributionsjl.readthedocs.io/en/latest/starting.html"
   ]
  },
  {
   "cell_type": "markdown",
   "metadata": {},
   "source": [
    "### Setting random seed\n",
    "\n",
    "You might have noticed that every time you run the cells above, a different set of values is generated. This makes sense, as the values are supposed to be random. However, sometimes you might want to repeat your experiments with the same set of random values. To achieve this, you can set the *random seed*.\n",
    "\n",
    "Run the next cell multiple times to convince yourself that you will always get the same values. You can also try changing the value sent to the *srand()* method and see what happens."
   ]
  },
  {
   "cell_type": "code",
   "execution_count": null,
   "metadata": {
    "collapsed": false
   },
   "outputs": [],
   "source": [
    "srand(2) # Setting the seed \n",
    "\n",
    "z = rand(10)"
   ]
  },
  {
   "cell_type": "markdown",
   "metadata": {},
   "source": [
    "## 3. Working with arrays\n",
    "\n",
    "There are quick ways to create some standard matrices. \n",
    "\n",
    "(To run the next cell you need the variables $m$ and $n$ - in case you restarted the notebook kernel since you ran the cell defining them in the previous section, run it again now.)"
   ]
  },
  {
   "cell_type": "code",
   "execution_count": null,
   "metadata": {
    "collapsed": false
   },
   "outputs": [],
   "source": [
    "# m by n identity matrix\n",
    "I = eye(m,n)"
   ]
  },
  {
   "cell_type": "code",
   "execution_count": null,
   "metadata": {
    "collapsed": false
   },
   "outputs": [],
   "source": [
    "# m by 1 matrix of zeros\n",
    "Z = zeros(m)"
   ]
  },
  {
   "cell_type": "code",
   "execution_count": null,
   "metadata": {
    "collapsed": false
   },
   "outputs": [],
   "source": [
    "# n by m matrix of ones\n",
    "O = ones(n,m)"
   ]
  },
  {
   "cell_type": "markdown",
   "metadata": {},
   "source": [
    "If you want to create a $3 \\times 5$ matrix filled with the sequence [1,2,3,...,15]:"
   ]
  },
  {
   "cell_type": "code",
   "execution_count": null,
   "metadata": {
    "collapsed": false
   },
   "outputs": [],
   "source": [
    "S = reshape(1:15, m, n)"
   ]
  },
  {
   "cell_type": "markdown",
   "metadata": {},
   "source": [
    "*Note:* the sequence is sorted column by column in the matrix.\n",
    "\n",
    "### Matrix operations\n",
    "\n",
    "**Adding** or **multiplying matrices** is easy, just make sure they have the right dimensions:"
   ]
  },
  {
   "cell_type": "code",
   "execution_count": null,
   "metadata": {
    "collapsed": false
   },
   "outputs": [],
   "source": [
    "B = A + eye(m,n)"
   ]
  },
  {
   "cell_type": "code",
   "execution_count": null,
   "metadata": {
    "collapsed": false
   },
   "outputs": [],
   "source": [
    "C = A * rand(n,1) # C is m by 1"
   ]
  },
  {
   "cell_type": "markdown",
   "metadata": {},
   "source": [
    "**Pointwise operations** use '.' before the operator:"
   ]
  },
  {
   "cell_type": "code",
   "execution_count": null,
   "metadata": {
    "collapsed": false
   },
   "outputs": [],
   "source": [
    "D = A .* eye(m,n)"
   ]
  },
  {
   "cell_type": "markdown",
   "metadata": {},
   "source": [
    "You can also do **pointwise comparisons**. See the example below to quickly calculate how many values in a matrix are positive."
   ]
  },
  {
   "cell_type": "code",
   "execution_count": null,
   "metadata": {
    "collapsed": false
   },
   "outputs": [],
   "source": [
    "F = randn(m,n)\n",
    "println(\"F = \", F, \", number of positive values = \", sum(F .> 0))"
   ]
  },
  {
   "cell_type": "markdown",
   "metadata": {},
   "source": [
    "You can also **concatenate matrices**:"
   ]
  },
  {
   "cell_type": "code",
   "execution_count": null,
   "metadata": {
    "collapsed": false
   },
   "outputs": [],
   "source": [
    "G = [A I] # horizontally"
   ]
  },
  {
   "cell_type": "code",
   "execution_count": null,
   "metadata": {
    "collapsed": false
   },
   "outputs": [],
   "source": [
    "H = [A; I] # vertically"
   ]
  },
  {
   "cell_type": "markdown",
   "metadata": {},
   "source": [
    "### Indexing\n",
    "\n",
    "Arrays are **indexed from 1** (so be careful if you are used to other languages, e.g. Python!)"
   ]
  },
  {
   "cell_type": "code",
   "execution_count": null,
   "metadata": {
    "collapsed": false
   },
   "outputs": [],
   "source": [
    "println(S)\n",
    "println(S[1,3])"
   ]
  },
  {
   "cell_type": "markdown",
   "metadata": {},
   "source": [
    "You can access whole rows or columns at once:"
   ]
  },
  {
   "cell_type": "code",
   "execution_count": null,
   "metadata": {
    "collapsed": false
   },
   "outputs": [],
   "source": [
    "S[:,1] # first column"
   ]
  },
  {
   "cell_type": "code",
   "execution_count": null,
   "metadata": {
    "collapsed": false
   },
   "outputs": [],
   "source": [
    "S[3,:] # third row"
   ]
  },
  {
   "cell_type": "markdown",
   "metadata": {},
   "source": [
    "And even better, you can index vectors by arrays of booleans! For example, using the pointwise comparisons from above, if you want to take all the even numbers from a vector and multiply them by 2 (why wouldn't you want to do it?), just do this:"
   ]
  },
  {
   "cell_type": "code",
   "execution_count": null,
   "metadata": {
    "collapsed": false
   },
   "outputs": [],
   "source": [
    "R = collect(1:m*n) # this creates a vector [1,2,...,m*n]\n",
    "R[(R%2) .== 0] *= 2 # multiplies each element divisible by 2\n",
    "println(R)"
   ]
  },
  {
   "cell_type": "markdown",
   "metadata": {},
   "source": [
    "### Other useful things to know:"
   ]
  },
  {
   "cell_type": "code",
   "execution_count": null,
   "metadata": {
    "collapsed": false
   },
   "outputs": [],
   "source": [
    "AT = A' # transpose of a matrix"
   ]
  },
  {
   "cell_type": "code",
   "execution_count": null,
   "metadata": {
    "collapsed": false
   },
   "outputs": [],
   "source": [
    "println(\"Number of dimensions of A: \", ndims(A))\n",
    "println(\"Total length of A: \", length(A))\n",
    "println(\"Dimensions of A: \", size(A))\n",
    "println(\"Second dimension of A: \", size(A,2))"
   ]
  },
  {
   "cell_type": "markdown",
   "metadata": {},
   "source": [
    "The following function returns **eigenvalues and eigenvectors** of the given matrix. \n",
    "\n",
    "We send it $A^T A$ which is symmetric and positive semi-definite."
   ]
  },
  {
   "cell_type": "code",
   "execution_count": null,
   "metadata": {
    "collapsed": false
   },
   "outputs": [],
   "source": [
    "AtA = A' * A\n",
    "eig(AtA) # returns an array of eigenvalues, and a matrix with the corresponding eigenvectors"
   ]
  },
  {
   "cell_type": "markdown",
   "metadata": {},
   "source": [
    "*Remark:* As $A$ is $3 \\times 5$, its rank is at most $3$, and so also $A^T A$ is at most of rank $3$. This implies that at least 2 of the eigenvalues have to be $0$. The values returned are not exactly 0 but rather of order $10^{-16}$ because of machine precision.\n",
    "\n",
    "## 4. Loops, conditions and custom functions\n",
    "\n",
    "The code snippets below should give you an idea how **for loops**, **if statements** and **custom functions** are written in Julia."
   ]
  },
  {
   "cell_type": "code",
   "execution_count": null,
   "metadata": {
    "collapsed": false
   },
   "outputs": [],
   "source": [
    "for i=1:5\n",
    "    println(i)\n",
    "end"
   ]
  },
  {
   "cell_type": "code",
   "execution_count": null,
   "metadata": {
    "collapsed": false
   },
   "outputs": [],
   "source": [
    "if (14%2 == 0) \n",
    "    println(\"14 is even\")\n",
    "else\n",
    "    println(\"14 is odd\")\n",
    "end"
   ]
  },
  {
   "cell_type": "code",
   "execution_count": null,
   "metadata": {
    "collapsed": false
   },
   "outputs": [],
   "source": [
    "function Hello(name)\n",
    "    println(\"Hello, \", name, \"!\")\n",
    "end\n",
    "\n",
    "Hello(\"World\")"
   ]
  },
  {
   "cell_type": "code",
   "execution_count": null,
   "metadata": {
    "collapsed": false
   },
   "outputs": [],
   "source": [
    "function FindDivisors(N)\n",
    "    for d=1:N\n",
    "        if (N%d == 0) \n",
    "            println(d)\n",
    "        end\n",
    "    end\n",
    "end\n",
    "\n",
    "FindDivisors(24)"
   ]
  },
  {
   "cell_type": "markdown",
   "metadata": {},
   "source": [
    "## 5. Plotting\n",
    "\n",
    "To plot in Julia, you need the PyPlot package. It might take some time to load it for the first time."
   ]
  },
  {
   "cell_type": "code",
   "execution_count": null,
   "metadata": {
    "collapsed": false
   },
   "outputs": [],
   "source": [
    "using PyPlot\n",
    "\n",
    "x = linspace(0,4*pi,1000); # vector of 1000 uniformly spaced points in [0, 4*pi]\n",
    "y = sin(x); # apply sin() to all values in x, creating another 1000-dimensional vector\n",
    "plot(x, y, color=\"green\", linewidth=2.0, linestyle=\"--\", label=\"sin(x)\") # plot y against x\n",
    "\n",
    "z = 0.3*cos(0.75*x) # another function of x\n",
    "plot(x, z, color=\"red\", linewidth=2.0, linestyle=\":\", label=\"0.3*(cos(0.75*x))\") # plot on the same diagram\n",
    "\n",
    "\n",
    "title(\"The sine function\")\n",
    "xlabel(\"x\")\n",
    "grid(\"on\")\n",
    "legend(loc=\"upper right\")"
   ]
  },
  {
   "cell_type": "markdown",
   "metadata": {},
   "source": [
    "## 6. Example: Gradient descent algorithm in 2D\n",
    "\n",
    "For $x, b \\in \\mathbb{R}^2$, $c \\in \\mathbb{R}$ and a positive definite symmetric matrix $A \\in \\mathbb{R}^{2\\times 2}$, define\n",
    "$$f(x) = x^T A x + b^T x + c$$\n",
    "\n",
    "**Goal:** find $x^* = \\text{arg min}_{x \\in \\mathbb{R}^2}{f(x)}$, i.e. the value of $x$ which minimizes $f(x)$.\n",
    "\n",
    "Taking derivative and setting to zero, we get:\n",
    "\n",
    "$$\\nabla f(x) = 2 A x + b = 0 \\implies x^* = \\frac{1}{2} (A)^{-1} b$$\n",
    "\n",
    "However, in higher dimensions, computing the inverse of $A$ is usually very expensive and we want to avoid it. Instead, we will try to find the minimizer using a **gradient descent algorithm**:\n",
    "\n",
    "- initialize $x^{(0)}$\n",
    "- set $x^{(t+1)} \\leftarrow x^{(t)} - \\lambda \\nabla f(x^{(t)})$, where $\\lambda \\in \\mathbb{R}^+$ is a step size parameter.\n",
    "\n",
    "For $\\lambda$ sufficiently small, this procedure converges towards the true value $x^*$.\n",
    "\n",
    "### Setup\n",
    "\n",
    "Since this is a small illustrative example, it is actually quite easy to calculate the actual value of $x^*$. Thanks to this we will be able to track how does the distance $||x^{(t)} - x^*||^2$ change with $t$."
   ]
  },
  {
   "cell_type": "code",
   "execution_count": null,
   "metadata": {
    "collapsed": false
   },
   "outputs": [],
   "source": [
    "srand(2)\n",
    "\n",
    "m = 2\n",
    "n = 2\n",
    "\n",
    "A = randn(m,n); # a random matrix A is most likely non-singular (can check that it is)\n",
    "A = A' * A; # make A symmetric and positive definite\n",
    "b = randn(n)\n",
    "c = randn();\n",
    "println(\"A = \", A)\n",
    "println(\"b = \", b)\n",
    "println(\"c = \", c)\n",
    "\n",
    "x_star = - 0.5 * (A \\ b) # this finds the solution by solving the linear system directly\n",
    "println(\"x* = \", x_star)\n",
    "\n",
    "function f(x) \n",
    "    return (x' * A * x + b' * x + c)[1] # we want this to be a scalar, not 1-dim vector\n",
    "end\n",
    "\n",
    "function grad_f(x)\n",
    "    return (2 * A * x + b)\n",
    "end\n",
    "\n",
    "f_star = f(x_star) # this is the optimal value for f\n",
    "println(\"f(x*) = \", f_star)"
   ]
  },
  {
   "cell_type": "markdown",
   "metadata": {},
   "source": [
    "Now we just need to iterate, and save the values to be plotted later:"
   ]
  },
  {
   "cell_type": "code",
   "execution_count": null,
   "metadata": {
    "collapsed": false
   },
   "outputs": [],
   "source": [
    "x = zeros(n) # start at x = [0, 0]\n",
    "T = 100 # number of iterations\n",
    "lambda = 0.05 # step size\n",
    "\n",
    "xs = zeros(T, 2)\n",
    "\n",
    "for t=1:T\n",
    "    x = x - lambda * grad_f(x) # GD update\n",
    "    xs[t,:] = x'\n",
    "end"
   ]
  },
  {
   "cell_type": "code",
   "execution_count": null,
   "metadata": {
    "collapsed": false,
    "scrolled": false
   },
   "outputs": [],
   "source": [
    "using PyPlot\n",
    "\n",
    "scatter(xs[:,1], xs[:,2], color=\"red\", s=15., label=string(\"iterates \", L\"x^{(t)}\"))\n",
    "annotate(\"x*\", xy=x_star+0.005, color=\"green\")\n",
    "for t=1:10\n",
    "    annotate(string(\"x_\", t-1), xy=xs[t,:]+0.005, color=\"red\")\n",
    "end\n",
    "\n",
    "scatter(x_star[1], x_star[2], s=50., color=\"green\", label=L\"x^*\")\n",
    "xlabel(L\"x_1\") # L\"...\" means LaTeX\n",
    "ylabel(L\"x_2\")\n",
    "title(\"Convergence of the iterates to the minimizer\")\n",
    "legend(loc=\"upper right\")\n",
    "\n",
    "grid(\"on\")"
   ]
  },
  {
   "cell_type": "markdown",
   "metadata": {},
   "source": [
    "\n",
    "## <font color=\"blue\">7. Solved Exercises</font><br>\n",
    "\n",
    "<font color=\"blue\"> You can find sample solutions for the exercises below. Make sure you understand how and why these work. However, bear in mind that these are not the only correct solutions, so don't worry if you did them in a different way! </font>\n",
    "\n",
    "### Q1:\n",
    "\n",
    "Write a function to draw $n$ samples from the Bernoulli distribution (i.e. it should return $1$ with probability $p$, and $0$ with probability $(1-p)$)."
   ]
  },
  {
   "cell_type": "code",
   "execution_count": null,
   "metadata": {
    "collapsed": false
   },
   "outputs": [],
   "source": [
    "function Bernoulli(n, p)\n",
    "    out = zeros(n);\n",
    "    out[rand(n) .< p] = 1;\n",
    "    return out;\n",
    "end"
   ]
  },
  {
   "cell_type": "code",
   "execution_count": null,
   "metadata": {
    "collapsed": false
   },
   "outputs": [],
   "source": [
    "# Test it here\n",
    "println(Bernoulli(20, 0.3)) \n",
    "\n",
    "samples = 10000\n",
    "sum(Bernoulli(samples, 0.3))/samples # should be close to 0.3"
   ]
  },
  {
   "cell_type": "markdown",
   "metadata": {},
   "source": [
    "### Q2:\n",
    "\n",
    "Write a function to draw $n$ samples from the normal distribution with mean $m$ and standard deviation $s$."
   ]
  },
  {
   "cell_type": "code",
   "execution_count": null,
   "metadata": {
    "collapsed": false
   },
   "outputs": [],
   "source": [
    "function Gauss(n, m, s)\n",
    "    return randn(n)*s + m\n",
    "end"
   ]
  },
  {
   "cell_type": "code",
   "execution_count": null,
   "metadata": {
    "collapsed": false
   },
   "outputs": [],
   "source": [
    "# Test it here\n",
    "Gauss(20, 5, 0.1)"
   ]
  },
  {
   "cell_type": "markdown",
   "metadata": {},
   "source": [
    "### Q3:\n",
    "\n",
    "In the examples above you have seen how to form a $m \\times n$ matrix filled with the numbers $\\{1, 2, \\ldots, mn\\}$ column by column. Can you do it so that the numbers will be in the matrix sorted row by row instead?"
   ]
  },
  {
   "cell_type": "code",
   "execution_count": null,
   "metadata": {
    "collapsed": false
   },
   "outputs": [],
   "source": [
    "m = 3\n",
    "n = 5\n",
    "M = reshape(1:m*n, n, m) # first create the column-wise n*m matrix\n",
    "M = M' # transpose to get row-wise m*n matrix"
   ]
  },
  {
   "cell_type": "markdown",
   "metadata": {},
   "source": [
    "### Q4:\n",
    "\n",
    "For the GD problem above, plot a diagram showing how $f(x^{(t)})$ changes with $t$."
   ]
  },
  {
   "cell_type": "code",
   "execution_count": null,
   "metadata": {
    "collapsed": false
   },
   "outputs": [],
   "source": [
    "# Run the cells of section 6 before this\n",
    "\n",
    "# Calculate the functional values to plot\n",
    "fs = zeros(T)\n",
    "for t=1:T\n",
    "    fs[t] = f(xs[t,:])\n",
    "end"
   ]
  },
  {
   "cell_type": "code",
   "execution_count": null,
   "metadata": {
    "collapsed": false
   },
   "outputs": [],
   "source": [
    "# Plot it on the same diagram as f(x^*)\n",
    "\n",
    "plot(1:T, fs, color=\"red\", label=L\"f(x^{(t)})\")\n",
    "plot(1:T, ones(T) * f_star, color=\"green\", label=L\"f(x^*)\")\n",
    "\n",
    "xlabel(L\"t\") # L\"...\" means LaTeX\n",
    "title(\"Convergence of the functional value\")\n",
    "legend(loc=\"upper right\")\n",
    "\n",
    "grid(\"on\")"
   ]
  },
  {
   "cell_type": "markdown",
   "metadata": {},
   "source": [
    "*Follow-up:*\n",
    "\n",
    "Ok, we plotted something... but it is not the most useful diagram you have ever seen, or is it? For $t$ close to $40$, the functional value of our iterates is already so close to the minimum that we can't see the difference.\n",
    "\n",
    "Instead, we might want to plot the **difference** $f(x^{(t)})-f(x^*)$ on a graph with **log scale** on the y-axis. As we expect this value to go to 0, plotting its logarithm might be more informative (i.e. it might tell  us more about how fast it converges etc)."
   ]
  },
  {
   "cell_type": "code",
   "execution_count": null,
   "metadata": {
    "collapsed": false
   },
   "outputs": [],
   "source": [
    "semilogy(1:T, fs-f_star, color=\"blue\") # plot on graph with logarithmic y-axis (see also semilogx and loglog)\n",
    "\n",
    "xlabel(L\"t\")\n",
    "ylabel(L\"f(x^{(t)})-f(x^*)\")\n",
    "title(\"Convergence of the functional value\")\n",
    "grid(\"on\")"
   ]
  },
  {
   "cell_type": "markdown",
   "metadata": {},
   "source": [
    "This looks really linear! In other words, it seems like\n",
    "\n",
    "$$\\log{\\left(f\\left(x^{(t)}\\right) - f\\left(x^*\\right)\\right)} = \\alpha t + \\beta$$\n",
    "\n",
    "for some constants $\\alpha$ and $\\beta$ (we could find these by fitting a linear line to our data). This is equivalent to saying that\n",
    "\n",
    "$$f\\left(x^{(t)}\\right) - f\\left(x^*\\right) = \\gamma . e^{\\alpha t}$$\n",
    "\n",
    "for $\\gamma = e^\\beta$, i.e. the distance between $f\\left(x^{(t)}\\right)$ and $f\\left(x^*\\right)$ **decreases exponentially**."
   ]
  },
  {
   "cell_type": "code",
   "execution_count": null,
   "metadata": {
    "collapsed": true
   },
   "outputs": [],
   "source": []
  }
 ],
 "metadata": {
  "kernelspec": {
   "display_name": "Julia 0.5.0",
   "language": "julia",
   "name": "julia-0.5"
  },
  "language_info": {
   "file_extension": ".jl",
   "mimetype": "application/julia",
   "name": "julia",
   "version": "0.5.0"
  }
 },
 "nbformat": 4,
 "nbformat_minor": 1
}
